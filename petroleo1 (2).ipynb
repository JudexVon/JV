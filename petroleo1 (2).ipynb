{
 "cells": [
  {
   "cell_type": "code",
   "execution_count": 22,
   "id": "1b0cf787-6c07-4eb9-9d66-7292a60e9783",
   "metadata": {},
   "outputs": [],
   "source": [
    "import pandas as pd\n",
    "import seaborn as sns\n",
    "import matplotlib.pyplot as plt"
   ]
  },
  {
   "cell_type": "code",
   "execution_count": 24,
   "id": "f14eae44-a589-4402-8ff0-deb7c35f3471",
   "metadata": {},
   "outputs": [
    {
     "data": {
      "text/html": [
       "<div>\n",
       "<style scoped>\n",
       "    .dataframe tbody tr th:only-of-type {\n",
       "        vertical-align: middle;\n",
       "    }\n",
       "\n",
       "    .dataframe tbody tr th {\n",
       "        vertical-align: top;\n",
       "    }\n",
       "\n",
       "    .dataframe thead th {\n",
       "        text-align: right;\n",
       "    }\n",
       "</style>\n",
       "<table border=\"1\" class=\"dataframe\">\n",
       "  <thead>\n",
       "    <tr style=\"text-align: right;\">\n",
       "      <th></th>\n",
       "      <th>Continent</th>\n",
       "      <th>Country</th>\n",
       "      <th>Trade Value</th>\n",
       "      <th>Year</th>\n",
       "      <th>Action</th>\n",
       "    </tr>\n",
       "  </thead>\n",
       "  <tbody>\n",
       "    <tr>\n",
       "      <th>0</th>\n",
       "      <td>Africa</td>\n",
       "      <td>Angola</td>\n",
       "      <td>2.767000e+10</td>\n",
       "      <td>2021</td>\n",
       "      <td>Export</td>\n",
       "    </tr>\n",
       "    <tr>\n",
       "      <th>1</th>\n",
       "      <td>Africa</td>\n",
       "      <td>Botswana</td>\n",
       "      <td>2.055000e+03</td>\n",
       "      <td>2021</td>\n",
       "      <td>Export</td>\n",
       "    </tr>\n",
       "    <tr>\n",
       "      <th>2</th>\n",
       "      <td>Africa</td>\n",
       "      <td>Cote d'Ivoire</td>\n",
       "      <td>4.447282e+08</td>\n",
       "      <td>2021</td>\n",
       "      <td>Export</td>\n",
       "    </tr>\n",
       "    <tr>\n",
       "      <th>3</th>\n",
       "      <td>Africa</td>\n",
       "      <td>Cameroon</td>\n",
       "      <td>1.865465e+09</td>\n",
       "      <td>2021</td>\n",
       "      <td>Export</td>\n",
       "    </tr>\n",
       "    <tr>\n",
       "      <th>4</th>\n",
       "      <td>Africa</td>\n",
       "      <td>Democratic Republic of the Congo</td>\n",
       "      <td>5.815086e+08</td>\n",
       "      <td>2021</td>\n",
       "      <td>Export</td>\n",
       "    </tr>\n",
       "    <tr>\n",
       "      <th>...</th>\n",
       "      <td>...</td>\n",
       "      <td>...</td>\n",
       "      <td>...</td>\n",
       "      <td>...</td>\n",
       "      <td>...</td>\n",
       "    </tr>\n",
       "    <tr>\n",
       "      <th>7920</th>\n",
       "      <td>South America</td>\n",
       "      <td>Peru</td>\n",
       "      <td>2.925830e+08</td>\n",
       "      <td>1995</td>\n",
       "      <td>Import</td>\n",
       "    </tr>\n",
       "    <tr>\n",
       "      <th>7921</th>\n",
       "      <td>South America</td>\n",
       "      <td>Paraguay</td>\n",
       "      <td>2.829010e+07</td>\n",
       "      <td>1995</td>\n",
       "      <td>Import</td>\n",
       "    </tr>\n",
       "    <tr>\n",
       "      <th>7922</th>\n",
       "      <td>South America</td>\n",
       "      <td>Suriname</td>\n",
       "      <td>1.830000e+07</td>\n",
       "      <td>1995</td>\n",
       "      <td>Import</td>\n",
       "    </tr>\n",
       "    <tr>\n",
       "      <th>7923</th>\n",
       "      <td>South America</td>\n",
       "      <td>Uruguay</td>\n",
       "      <td>1.606507e+08</td>\n",
       "      <td>1995</td>\n",
       "      <td>Import</td>\n",
       "    </tr>\n",
       "    <tr>\n",
       "      <th>7924</th>\n",
       "      <td>South America</td>\n",
       "      <td>Venezuela</td>\n",
       "      <td>4.769900e+04</td>\n",
       "      <td>1995</td>\n",
       "      <td>Import</td>\n",
       "    </tr>\n",
       "  </tbody>\n",
       "</table>\n",
       "<p>7925 rows × 5 columns</p>\n",
       "</div>"
      ],
      "text/plain": [
       "          Continent                           Country   Trade Value  Year  \\\n",
       "0            Africa                            Angola  2.767000e+10  2021   \n",
       "1            Africa                          Botswana  2.055000e+03  2021   \n",
       "2            Africa                     Cote d'Ivoire  4.447282e+08  2021   \n",
       "3            Africa                          Cameroon  1.865465e+09  2021   \n",
       "4            Africa  Democratic Republic of the Congo  5.815086e+08  2021   \n",
       "...             ...                               ...           ...   ...   \n",
       "7920  South America                              Peru  2.925830e+08  1995   \n",
       "7921  South America                          Paraguay  2.829010e+07  1995   \n",
       "7922  South America                          Suriname  1.830000e+07  1995   \n",
       "7923  South America                           Uruguay  1.606507e+08  1995   \n",
       "7924  South America                         Venezuela  4.769900e+04  1995   \n",
       "\n",
       "      Action  \n",
       "0     Export  \n",
       "1     Export  \n",
       "2     Export  \n",
       "3     Export  \n",
       "4     Export  \n",
       "...      ...  \n",
       "7920  Import  \n",
       "7921  Import  \n",
       "7922  Import  \n",
       "7923  Import  \n",
       "7924  Import  \n",
       "\n",
       "[7925 rows x 5 columns]"
      ]
     },
     "execution_count": 24,
     "metadata": {},
     "output_type": "execute_result"
    }
   ],
   "source": [
    "df= pd.read_csv(r\"C:\\Users\\Karen\\Desktop\\archive (2)\\petroleo.csv\")\n",
    "df"
   ]
  },
  {
   "cell_type": "code",
   "execution_count": 26,
   "id": "76dee620-0a7d-4d26-97ab-29ce2ab0ded7",
   "metadata": {},
   "outputs": [
    {
     "name": "stdout",
     "output_type": "stream",
     "text": [
      "<class 'pandas.core.frame.DataFrame'>\n",
      "RangeIndex: 7925 entries, 0 to 7924\n",
      "Data columns (total 5 columns):\n",
      " #   Column       Non-Null Count  Dtype  \n",
      "---  ------       --------------  -----  \n",
      " 0   Continent    7925 non-null   object \n",
      " 1   Country      7925 non-null   object \n",
      " 2   Trade Value  7925 non-null   float64\n",
      " 3   Year         7925 non-null   int64  \n",
      " 4   Action       7925 non-null   object \n",
      "dtypes: float64(1), int64(1), object(3)\n",
      "memory usage: 309.7+ KB\n"
     ]
    }
   ],
   "source": [
    "df.info()"
   ]
  },
  {
   "cell_type": "markdown",
   "id": "1d2b0936-c4b4-4dc5-a30f-214b439a425f",
   "metadata": {},
   "source": [
    "# Perform data wrangling"
   ]
  },
  {
   "cell_type": "code",
   "execution_count": 28,
   "id": "d3c58b79-d161-4144-af5b-7cc2cd782885",
   "metadata": {},
   "outputs": [
    {
     "data": {
      "text/plain": [
       "Continent      0\n",
       "Country        0\n",
       "Trade Value    0\n",
       "Year           0\n",
       "Action         0\n",
       "dtype: int64"
      ]
     },
     "execution_count": 28,
     "metadata": {},
     "output_type": "execute_result"
    }
   ],
   "source": [
    "df.isnull().sum()"
   ]
  },
  {
   "cell_type": "code",
   "execution_count": 30,
   "id": "1463e1c5-a065-4cb8-9829-78fed5a787f9",
   "metadata": {},
   "outputs": [
    {
     "data": {
      "text/html": [
       "<div>\n",
       "<style scoped>\n",
       "    .dataframe tbody tr th:only-of-type {\n",
       "        vertical-align: middle;\n",
       "    }\n",
       "\n",
       "    .dataframe tbody tr th {\n",
       "        vertical-align: top;\n",
       "    }\n",
       "\n",
       "    .dataframe thead th {\n",
       "        text-align: right;\n",
       "    }\n",
       "</style>\n",
       "<table border=\"1\" class=\"dataframe\">\n",
       "  <thead>\n",
       "    <tr style=\"text-align: right;\">\n",
       "      <th></th>\n",
       "      <th>Trade Value</th>\n",
       "      <th>Year</th>\n",
       "    </tr>\n",
       "  </thead>\n",
       "  <tbody>\n",
       "    <tr>\n",
       "      <th>count</th>\n",
       "      <td>7.925000e+03</td>\n",
       "      <td>7925.000000</td>\n",
       "    </tr>\n",
       "    <tr>\n",
       "      <th>mean</th>\n",
       "      <td>5.365169e+09</td>\n",
       "      <td>2008.589148</td>\n",
       "    </tr>\n",
       "    <tr>\n",
       "      <th>std</th>\n",
       "      <td>1.940226e+10</td>\n",
       "      <td>7.569435</td>\n",
       "    </tr>\n",
       "    <tr>\n",
       "      <th>min</th>\n",
       "      <td>1.000000e+00</td>\n",
       "      <td>1995.000000</td>\n",
       "    </tr>\n",
       "    <tr>\n",
       "      <th>25%</th>\n",
       "      <td>1.416080e+05</td>\n",
       "      <td>2002.000000</td>\n",
       "    </tr>\n",
       "    <tr>\n",
       "      <th>50%</th>\n",
       "      <td>8.549274e+07</td>\n",
       "      <td>2009.000000</td>\n",
       "    </tr>\n",
       "    <tr>\n",
       "      <th>75%</th>\n",
       "      <td>1.828030e+09</td>\n",
       "      <td>2015.000000</td>\n",
       "    </tr>\n",
       "    <tr>\n",
       "      <th>max</th>\n",
       "      <td>3.283380e+11</td>\n",
       "      <td>2021.000000</td>\n",
       "    </tr>\n",
       "  </tbody>\n",
       "</table>\n",
       "</div>"
      ],
      "text/plain": [
       "        Trade Value         Year\n",
       "count  7.925000e+03  7925.000000\n",
       "mean   5.365169e+09  2008.589148\n",
       "std    1.940226e+10     7.569435\n",
       "min    1.000000e+00  1995.000000\n",
       "25%    1.416080e+05  2002.000000\n",
       "50%    8.549274e+07  2009.000000\n",
       "75%    1.828030e+09  2015.000000\n",
       "max    3.283380e+11  2021.000000"
      ]
     },
     "execution_count": 30,
     "metadata": {},
     "output_type": "execute_result"
    }
   ],
   "source": [
    "df.describe()"
   ]
  },
  {
   "cell_type": "code",
   "execution_count": 47,
   "id": "14e56181-762b-4be1-8ca7-645079a401d7",
   "metadata": {
    "scrolled": true
   },
   "outputs": [],
   "source": [
    "africa = df[df[\"Country\"] == \"Angola\"]\n",
    "angola=africa[africa[\"Action\"]==\"Export\"]\n",
    "#angola"
   ]
  },
  {
   "cell_type": "code",
   "execution_count": 79,
   "id": "69ad5e53-3e16-4a62-b535-99b2cb8e5bbd",
   "metadata": {},
   "outputs": [],
   "source": [
    "angola_precios=angola[\"Trade Value\"]\n",
    "#angola_precios"
   ]
  },
  {
   "cell_type": "code",
   "execution_count": 112,
   "id": "eface6c7-95fb-40d6-af06-6cf33848b77f",
   "metadata": {},
   "outputs": [],
   "source": [
    "america=df[df[\"Country\"]==\"Mexico\"]\n",
    "mexico=america[america[\"Action\"]==\"Export\"]\n",
    "#mexico"
   ]
  },
  {
   "cell_type": "code",
   "execution_count": 77,
   "id": "263a59e8-a690-4db3-9094-a1838157bcf4",
   "metadata": {},
   "outputs": [],
   "source": [
    "mexico_precio=mexico[\"Trade Value\"]\n",
    "#mexico_precio"
   ]
  },
  {
   "cell_type": "markdown",
   "id": "19457d98-169e-48db-ba95-9155b75af0c4",
   "metadata": {},
   "source": [
    "# Perform exploratory data analysis (EDA)"
   ]
  },
  {
   "cell_type": "code",
   "execution_count": 75,
   "id": "0e1818e4-e19b-4189-9838-54107740f258",
   "metadata": {
    "scrolled": true
   },
   "outputs": [
    {
     "data": {
      "image/png": "[encoded data removed]",
      "text/plain": [
       "<Figure size 640x480 with 1 Axes>"
      ]
     },
     "metadata": {},
     "output_type": "display_data"
    }
   ],
   "source": [
    "plt.plot(angola_precios, marker=\"o\")\n",
    "plt.title(\"Trade Value de Angola\")\n",
    "plt.xlabel(\"Índice\")\n",
    "plt.ylabel(\"Trade Value\")\n",
    "plt.grid(True)\n",
    "plt.show()"
   ]
  },
  {
   "cell_type": "code",
   "execution_count": 108,
   "id": "2241bb08-47e6-45a1-9894-c53cfa9e2382",
   "metadata": {
    "scrolled": true
   },
   "outputs": [
    {
     "data": {
      "image/png": "[encoded data removed]",
      "text/plain": [
       "<Figure size 640x480 with 1 Axes>"
      ]
     },
     "metadata": {},
     "output_type": "display_data"
    }
   ],
   "source": [
    "plt.plot(mexico_precio, marker=\"o\")\n",
    "plt.title(\"Trade Value de Angola\")\n",
    "plt.xlabel(\"Índice\")\n",
    "plt.ylabel(\"Trade Value\")\n",
    "plt.ylim(0, 7e10)\n",
    "plt.grid(True)\n",
    "plt.show()"
   ]
  },
  {
   "cell_type": "markdown",
   "id": "fa026103-27e4-4257-81a3-99b816a852ab",
   "metadata": {},
   "source": [
    "# Perform interactive visual analytics using Folium and Plotly Dash"
   ]
  },
  {
   "cell_type": "code",
   "execution_count": 114,
   "id": "e7acfd0b-4195-44bb-a16c-f569ec0020e0",
   "metadata": {},
   "outputs": [
    {
     "name": "stdout",
     "output_type": "stream",
     "text": [
      "Requirement already satisfied: folium in c:\\users\\karen\\anaconda3\\lib\\site-packages (0.19.4)Note: you may need to restart the kernel to use updated packages.\n",
      "\n",
      "Requirement already satisfied: branca>=0.6.0 in c:\\users\\karen\\anaconda3\\lib\\site-packages (from folium) (0.8.1)\n",
      "Requirement already satisfied: jinja2>=2.9 in c:\\users\\karen\\anaconda3\\lib\\site-packages (from folium) (3.1.4)\n",
      "Requirement already satisfied: numpy in c:\\users\\karen\\anaconda3\\lib\\site-packages (from folium) (1.26.4)\n",
      "Requirement already satisfied: requests in c:\\users\\karen\\anaconda3\\lib\\site-packages (from folium) (2.32.3)\n",
      "Requirement already satisfied: xyzservices in c:\\users\\karen\\anaconda3\\lib\\site-packages (from folium) (2022.9.0)\n",
      "Requirement already satisfied: MarkupSafe>=2.0 in c:\\users\\karen\\anaconda3\\lib\\site-packages (from jinja2>=2.9->folium) (2.1.3)\n",
      "Requirement already satisfied: charset-normalizer<4,>=2 in c:\\users\\karen\\anaconda3\\lib\\site-packages (from requests->folium) (3.3.2)\n",
      "Requirement already satisfied: idna<4,>=2.5 in c:\\users\\karen\\anaconda3\\lib\\site-packages (from requests->folium) (3.7)\n",
      "Requirement already satisfied: urllib3<3,>=1.21.1 in c:\\users\\karen\\anaconda3\\lib\\site-packages (from requests->folium) (2.2.3)\n",
      "Requirement already satisfied: certifi>=2017.4.17 in c:\\users\\karen\\anaconda3\\lib\\site-packages (from requests->folium) (2024.12.14)\n"
     ]
    }
   ],
   "source": [
    "pip install folium"
   ]
  },
  {
   "cell_type": "code",
   "execution_count": 116,
   "id": "fc063005-8a7d-4d10-8fa5-dfd3590b1d10",
   "metadata": {},
   "outputs": [
    {
     "data": {
      "text/html": [
       "<div style=\"width:100%;\"><div style=\"position:relative;width:100%;height:0;padding-bottom:60%;\"><span style=\"color:#565656\">Make this Notebook Trusted to load map: File -> Trust Notebook</span><iframe srcdoc=\"&lt;!DOCTYPE html&gt;\n",
       "&lt;html&gt;\n",
       "&lt;head&gt;\n",
       "    \n",
       "    &lt;meta http-equiv=&quot;content-type&quot; content=&quot;text/html; charset=UTF-8&quot; /&gt;\n",
       "    \n",
       "        &lt;script&gt;\n",
       "            L_NO_TOUCH = false;\n",
       "            L_DISABLE_3D = false;\n",
       "        &lt;/script&gt;\n",
       "    \n",
       "    &lt;style&gt;html, body {width: 100%;height: 100%;margin: 0;padding: 0;}&lt;/style&gt;\n",
       "    &lt;style&gt;#map {position:absolute;top:0;bottom:0;right:0;left:0;}&lt;/style&gt;\n",
       "    &lt;script src=&quot;https://cdn.jsdelivr.net/npm/leaflet@1.9.3/dist/leaflet.js&quot;&gt;&lt;/script&gt;\n",
       "    &lt;script src=&quot;https://code.jquery.com/jquery-3.7.1.min.js&quot;&gt;&lt;/script&gt;\n",
       "    &lt;script src=&quot;https://cdn.jsdelivr.net/npm/bootstrap@5.2.2/dist/js/bootstrap.bundle.min.js&quot;&gt;&lt;/script&gt;\n",
       "    &lt;script src=&quot;https://cdnjs.cloudflare.com/ajax/libs/Leaflet.awesome-markers/2.0.2/leaflet.awesome-markers.js&quot;&gt;&lt;/script&gt;\n",
       "    &lt;link rel=&quot;stylesheet&quot; href=&quot;https://cdn.jsdelivr.net/npm/leaflet@1.9.3/dist/leaflet.css&quot;/&gt;\n",
       "    &lt;link rel=&quot;stylesheet&quot; href=&quot;https://cdn.jsdelivr.net/npm/bootstrap@5.2.2/dist/css/bootstrap.min.css&quot;/&gt;\n",
       "    &lt;link rel=&quot;stylesheet&quot; href=&quot;https://netdna.bootstrapcdn.com/bootstrap/3.0.0/css/bootstrap-glyphicons.css&quot;/&gt;\n",
       "    &lt;link rel=&quot;stylesheet&quot; href=&quot;https://cdn.jsdelivr.net/npm/@fortawesome/fontawesome-free@6.2.0/css/all.min.css&quot;/&gt;\n",
       "    &lt;link rel=&quot;stylesheet&quot; href=&quot;https://cdnjs.cloudflare.com/ajax/libs/Leaflet.awesome-markers/2.0.2/leaflet.awesome-markers.css&quot;/&gt;\n",
       "    &lt;link rel=&quot;stylesheet&quot; href=&quot;https://cdn.jsdelivr.net/gh/python-visualization/folium/folium/templates/leaflet.awesome.rotate.min.css&quot;/&gt;\n",
       "    \n",
       "            &lt;meta name=&quot;viewport&quot; content=&quot;width=device-width,\n",
       "                initial-scale=1.0, maximum-scale=1.0, user-scalable=no&quot; /&gt;\n",
       "            &lt;style&gt;\n",
       "                #map_769dbaff740017425172c424a946d1c5 {\n",
       "                    position: relative;\n",
       "                    width: 100.0%;\n",
       "                    height: 100.0%;\n",
       "                    left: 0.0%;\n",
       "                    top: 0.0%;\n",
       "                }\n",
       "                .leaflet-container { font-size: 1rem; }\n",
       "            &lt;/style&gt;\n",
       "        \n",
       "&lt;/head&gt;\n",
       "&lt;body&gt;\n",
       "    \n",
       "    \n",
       "            &lt;div class=&quot;folium-map&quot; id=&quot;map_769dbaff740017425172c424a946d1c5&quot; &gt;&lt;/div&gt;\n",
       "        \n",
       "&lt;/body&gt;\n",
       "&lt;script&gt;\n",
       "    \n",
       "    \n",
       "            var map_769dbaff740017425172c424a946d1c5 = L.map(\n",
       "                &quot;map_769dbaff740017425172c424a946d1c5&quot;,\n",
       "                {\n",
       "                    center: [0.0, 0.0],\n",
       "                    crs: L.CRS.EPSG3857,\n",
       "                    ...{\n",
       "  &quot;zoom&quot;: 2,\n",
       "  &quot;zoomControl&quot;: true,\n",
       "  &quot;preferCanvas&quot;: false,\n",
       "}\n",
       "\n",
       "                }\n",
       "            );\n",
       "\n",
       "            \n",
       "\n",
       "        \n",
       "    \n",
       "            var tile_layer_04629ac8f59a4c46d6c34a2271621a5f = L.tileLayer(\n",
       "                &quot;https://tile.openstreetmap.org/{z}/{x}/{y}.png&quot;,\n",
       "                {\n",
       "  &quot;minZoom&quot;: 0,\n",
       "  &quot;maxZoom&quot;: 19,\n",
       "  &quot;maxNativeZoom&quot;: 19,\n",
       "  &quot;noWrap&quot;: false,\n",
       "  &quot;attribution&quot;: &quot;\\u0026copy; \\u003ca href=\\&quot;https://www.openstreetmap.org/copyright\\&quot;\\u003eOpenStreetMap\\u003c/a\\u003e contributors&quot;,\n",
       "  &quot;subdomains&quot;: &quot;abc&quot;,\n",
       "  &quot;detectRetina&quot;: false,\n",
       "  &quot;tms&quot;: false,\n",
       "  &quot;opacity&quot;: 1,\n",
       "}\n",
       "\n",
       "            );\n",
       "        \n",
       "    \n",
       "            tile_layer_04629ac8f59a4c46d6c34a2271621a5f.addTo(map_769dbaff740017425172c424a946d1c5);\n",
       "        \n",
       "    \n",
       "            var marker_037fdb8a4aff3317021cef41396f1edb = L.marker(\n",
       "                [-11.2027, 17.8739],\n",
       "                {\n",
       "}\n",
       "            ).addTo(map_769dbaff740017425172c424a946d1c5);\n",
       "        \n",
       "    \n",
       "        var popup_9f3505b2c168a10bbd5e619037319da5 = L.popup({\n",
       "  &quot;maxWidth&quot;: &quot;100%&quot;,\n",
       "});\n",
       "\n",
       "        \n",
       "            \n",
       "                var html_0adf3f5fa761061ff7801ec1777a8169 = $(`&lt;div id=&quot;html_0adf3f5fa761061ff7801ec1777a8169&quot; style=&quot;width: 100.0%; height: 100.0%;&quot;&gt;Exportación de Angola&lt;/div&gt;`)[0];\n",
       "                popup_9f3505b2c168a10bbd5e619037319da5.setContent(html_0adf3f5fa761061ff7801ec1777a8169);\n",
       "            \n",
       "        \n",
       "\n",
       "        marker_037fdb8a4aff3317021cef41396f1edb.bindPopup(popup_9f3505b2c168a10bbd5e619037319da5)\n",
       "        ;\n",
       "\n",
       "        \n",
       "    \n",
       "    \n",
       "            marker_037fdb8a4aff3317021cef41396f1edb.bindTooltip(\n",
       "                `&lt;div&gt;\n",
       "                     Trade Value: 739746562810.0\n",
       "                 &lt;/div&gt;`,\n",
       "                {\n",
       "  &quot;sticky&quot;: true,\n",
       "}\n",
       "            );\n",
       "        \n",
       "    \n",
       "            var marker_4e3c1307a4af3227b05525e09eb9f821 = L.marker(\n",
       "                [23.6345, -102.5528],\n",
       "                {\n",
       "}\n",
       "            ).addTo(map_769dbaff740017425172c424a946d1c5);\n",
       "        \n",
       "    \n",
       "        var popup_555be83b6c40eb3a784d0bdb0b18d54f = L.popup({\n",
       "  &quot;maxWidth&quot;: &quot;100%&quot;,\n",
       "});\n",
       "\n",
       "        \n",
       "            \n",
       "                var html_6f64fcc01528a62a1509c8ffa3130d30 = $(`&lt;div id=&quot;html_6f64fcc01528a62a1509c8ffa3130d30&quot; style=&quot;width: 100.0%; height: 100.0%;&quot;&gt;Exportación de México&lt;/div&gt;`)[0];\n",
       "                popup_555be83b6c40eb3a784d0bdb0b18d54f.setContent(html_6f64fcc01528a62a1509c8ffa3130d30);\n",
       "            \n",
       "        \n",
       "\n",
       "        marker_4e3c1307a4af3227b05525e09eb9f821.bindPopup(popup_555be83b6c40eb3a784d0bdb0b18d54f)\n",
       "        ;\n",
       "\n",
       "        \n",
       "    \n",
       "    \n",
       "            marker_4e3c1307a4af3227b05525e09eb9f821.bindTooltip(\n",
       "                `&lt;div&gt;\n",
       "                     Trade Value: 645025326740.0\n",
       "                 &lt;/div&gt;`,\n",
       "                {\n",
       "  &quot;sticky&quot;: true,\n",
       "}\n",
       "            );\n",
       "        \n",
       "&lt;/script&gt;\n",
       "&lt;/html&gt;\" style=\"position:absolute;width:100%;height:100%;left:0;top:0;border:none !important;\" allowfullscreen webkitallowfullscreen mozallowfullscreen></iframe></div></div>"
      ],
      "text/plain": [
       "<folium.folium.Map at 0x1b6c78979b0>"
      ]
     },
     "execution_count": 116,
     "metadata": {},
     "output_type": "execute_result"
    }
   ],
   "source": [
    "import folium\n",
    "\n",
    "# Crear un mapa centrado en el mundo\n",
    "m = folium.Map(location=[0, 0], zoom_start=2)\n",
    "\n",
    "# Agregar un marcador para Angola\n",
    "folium.Marker(\n",
    "    location=[-11.2027, 17.8739],  # Coordenadas de Angola\n",
    "    popup=\"Exportación de Angola\",\n",
    "    tooltip=f\"Trade Value: {angola_precios.sum()}\"\n",
    ").add_to(m)\n",
    "\n",
    "# Agregar un marcador para México\n",
    "folium.Marker(\n",
    "    location=[23.6345, -102.5528],  # Coordenadas de México\n",
    "    popup=\"Exportación de México\",\n",
    "    tooltip=f\"Trade Value: {mexico_precio.sum()}\"\n",
    ").add_to(m)\n",
    "\n",
    "# Mostrar el mapa\n",
    "m"
   ]
  },
  {
   "cell_type": "code",
   "execution_count": 118,
   "id": "712dbd61-d27b-40cd-ab3c-5f877e3d5fe6",
   "metadata": {},
   "outputs": [
    {
     "name": "stdout",
     "output_type": "stream",
     "text": [
      "Requirement already satisfied: dash in c:\\users\\karen\\anaconda3\\lib\\site-packages (2.18.2)Note: you may need to restart the kernel to use updated packages.\n",
      "\n",
      "Requirement already satisfied: Flask<3.1,>=1.0.4 in c:\\users\\karen\\anaconda3\\lib\\site-packages (from dash) (3.0.3)\n",
      "Requirement already satisfied: Werkzeug<3.1 in c:\\users\\karen\\anaconda3\\lib\\site-packages (from dash) (3.0.3)\n",
      "Requirement already satisfied: plotly>=5.0.0 in c:\\users\\karen\\anaconda3\\lib\\site-packages (from dash) (5.24.1)\n",
      "Requirement already satisfied: dash-html-components==2.0.0 in c:\\users\\karen\\anaconda3\\lib\\site-packages (from dash) (2.0.0)\n",
      "Requirement already satisfied: dash-core-components==2.0.0 in c:\\users\\karen\\anaconda3\\lib\\site-packages (from dash) (2.0.0)\n",
      "Requirement already satisfied: dash-table==5.0.0 in c:\\users\\karen\\anaconda3\\lib\\site-packages (from dash) (5.0.0)\n",
      "Requirement already satisfied: importlib-metadata in c:\\users\\karen\\anaconda3\\lib\\site-packages (from dash) (7.0.1)\n",
      "Requirement already satisfied: typing-extensions>=4.1.1 in c:\\users\\karen\\anaconda3\\lib\\site-packages (from dash) (4.11.0)\n",
      "Requirement already satisfied: requests in c:\\users\\karen\\anaconda3\\lib\\site-packages (from dash) (2.32.3)\n",
      "Requirement already satisfied: retrying in c:\\users\\karen\\anaconda3\\lib\\site-packages (from dash) (1.3.4)\n",
      "Requirement already satisfied: nest-asyncio in c:\\users\\karen\\anaconda3\\lib\\site-packages (from dash) (1.6.0)\n",
      "Requirement already satisfied: setuptools in c:\\users\\karen\\anaconda3\\lib\\site-packages (from dash) (75.1.0)\n",
      "Requirement already satisfied: Jinja2>=3.1.2 in c:\\users\\karen\\anaconda3\\lib\\site-packages (from Flask<3.1,>=1.0.4->dash) (3.1.4)\n",
      "Requirement already satisfied: itsdangerous>=2.1.2 in c:\\users\\karen\\anaconda3\\lib\\site-packages (from Flask<3.1,>=1.0.4->dash) (2.2.0)\n",
      "Requirement already satisfied: click>=8.1.3 in c:\\users\\karen\\anaconda3\\lib\\site-packages (from Flask<3.1,>=1.0.4->dash) (8.1.7)\n",
      "Requirement already satisfied: blinker>=1.6.2 in c:\\users\\karen\\anaconda3\\lib\\site-packages (from Flask<3.1,>=1.0.4->dash) (1.6.2)\n",
      "Requirement already satisfied: tenacity>=6.2.0 in c:\\users\\karen\\anaconda3\\lib\\site-packages (from plotly>=5.0.0->dash) (8.2.3)\n",
      "Requirement already satisfied: packaging in c:\\users\\karen\\anaconda3\\lib\\site-packages (from plotly>=5.0.0->dash) (24.1)\n",
      "Requirement already satisfied: MarkupSafe>=2.1.1 in c:\\users\\karen\\anaconda3\\lib\\site-packages (from Werkzeug<3.1->dash) (2.1.3)\n",
      "Requirement already satisfied: zipp>=0.5 in c:\\users\\karen\\anaconda3\\lib\\site-packages (from importlib-metadata->dash) (3.17.0)\n",
      "Requirement already satisfied: charset-normalizer<4,>=2 in c:\\users\\karen\\anaconda3\\lib\\site-packages (from requests->dash) (3.3.2)\n",
      "Requirement already satisfied: idna<4,>=2.5 in c:\\users\\karen\\anaconda3\\lib\\site-packages (from requests->dash) (3.7)\n",
      "Requirement already satisfied: urllib3<3,>=1.21.1 in c:\\users\\karen\\anaconda3\\lib\\site-packages (from requests->dash) (2.2.3)\n",
      "Requirement already satisfied: certifi>=2017.4.17 in c:\\users\\karen\\anaconda3\\lib\\site-packages (from requests->dash) (2024.12.14)\n",
      "Requirement already satisfied: six>=1.7.0 in c:\\users\\karen\\anaconda3\\lib\\site-packages (from retrying->dash) (1.16.0)\n",
      "Requirement already satisfied: colorama in c:\\users\\karen\\anaconda3\\lib\\site-packages (from click>=8.1.3->Flask<3.1,>=1.0.4->dash) (0.4.6)\n"
     ]
    }
   ],
   "source": [
    "pip install dash"
   ]
  },
  {
   "cell_type": "code",
   "execution_count": 122,
   "id": "2135b1ae-1f65-4b63-8aef-7aa5c762ce81",
   "metadata": {},
   "outputs": [
    {
     "data": {
      "text/html": [
       "\n",
       "        <iframe\n",
       "            width=\"100%\"\n",
       "            height=\"650\"\n",
       "            src=\"http://127.0.0.1:8050/\"\n",
       "            frameborder=\"0\"\n",
       "            allowfullscreen\n",
       "            \n",
       "        ></iframe>\n",
       "        "
      ],
      "text/plain": [
       "<IPython.lib.display.IFrame at 0x1b6ca690050>"
      ]
     },
     "metadata": {},
     "output_type": "display_data"
    }
   ],
   "source": [
    "from dash import Dash, dcc, html, Input, Output\n",
    "import plotly.express as px\n",
    "import pandas as pd\n",
    "\n",
    "# Crear la app Dash\n",
    "app = Dash(__name__)\n",
    "\n",
    "# Cargar los datos\n",
    "mexico = pd.read_csv(r\"C:\\Users\\Karen\\Desktop\\archive (2)\\petroleo.csv\")\n",
    "angola = mexico[mexico[\"Country\"] == \"Angola\"]\n",
    "mexico = mexico[mexico[\"Country\"] == \"Mexico\"]\n",
    "\n",
    "# Crear gráficos usando Plotly Express\n",
    "fig_mexico = px.line(mexico, x=\"Year\", y=\"Trade Value\", title=\"Exportaciones de México\")\n",
    "fig_angola = px.line(angola, x=\"Year\", y=\"Trade Value\", title=\"Exportaciones de Angola\")\n",
    "\n",
    "# Diseño de la app\n",
    "app.layout = html.Div([\n",
    "    html.H1(\"Visualización Interactiva de Exportaciones\", style={'textAlign': 'center'}),\n",
    "    \n",
    "    # Dropdown para seleccionar el país\n",
    "    dcc.Dropdown(\n",
    "        id='dropdown-country',\n",
    "        options=[\n",
    "            {'label': 'México', 'value': 'Mexico'},\n",
    "            {'label': 'Angola', 'value': 'Angola'}\n",
    "        ],\n",
    "        value='Mexico',  # Valor inicial\n",
    "        clearable=False,\n",
    "        style={'width': '50%', 'margin': '0 auto'}\n",
    "    ),\n",
    "    \n",
    "    # Componente para mostrar el gráfico\n",
    "    dcc.Graph(id='line-chart')\n",
    "])\n",
    "\n",
    "# Callback para actualizar el gráfico basado en la selección del dropdown\n",
    "@app.callback(\n",
    "    Output('line-chart', 'figure'),\n",
    "    [Input('dropdown-country', 'value')]\n",
    ")\n",
    "def update_chart(selected_country):\n",
    "    if selected_country == 'Mexico':\n",
    "        return fig_mexico\n",
    "    elif selected_country == 'Angola':\n",
    "        return fig_angola\n",
    "\n",
    "# Ejecutar la app\n",
    "if __name__ == '__main__':\n",
    "    app.run_server(debug=True)"
   ]
  },
  {
   "cell_type": "markdown",
   "id": "92f437f1-9131-4c6e-8cd4-360f197df98b",
   "metadata": {},
   "source": [
    "## Perform predictive analysis using classification models"
   ]
  },
  {
   "cell_type": "code",
   "execution_count": 134,
   "id": "a3ed89c6-f9a6-4902-bf1d-69b53b4ff80a",
   "metadata": {},
   "outputs": [
    {
     "name": "stdout",
     "output_type": "stream",
     "text": [
      "    Trade Value  Year  Continent_Antarctica  Continent_Asia  Continent_Europe  \\\n",
      "0  2.767000e+10  2021                 False           False             False   \n",
      "1  2.055000e+03  2021                 False           False             False   \n",
      "2  4.447282e+08  2021                 False           False             False   \n",
      "3  1.865465e+09  2021                 False           False             False   \n",
      "4  5.815086e+08  2021                 False           False             False   \n",
      "\n",
      "   Continent_North America  Continent_Oceania  Continent_South America  \\\n",
      "0                    False              False                    False   \n",
      "1                    False              False                    False   \n",
      "2                    False              False                    False   \n",
      "3                    False              False                    False   \n",
      "4                    False              False                    False   \n",
      "\n",
      "   Country_Albania  Country_Algeria  ...  Country_Uzbekistan  Country_Vanuatu  \\\n",
      "0            False            False  ...               False            False   \n",
      "1            False            False  ...               False            False   \n",
      "2            False            False  ...               False            False   \n",
      "3            False            False  ...               False            False   \n",
      "4            False            False  ...               False            False   \n",
      "\n",
      "   Country_Venezuela  Country_Vietnam  Country_Wallis and Futuna  \\\n",
      "0              False            False                      False   \n",
      "1              False            False                      False   \n",
      "2              False            False                      False   \n",
      "3              False            False                      False   \n",
      "4              False            False                      False   \n",
      "\n",
      "   Country_Yemen  Country_Yugoslavia  Country_Zambia  Country_Zimbabwe  \\\n",
      "0          False               False           False             False   \n",
      "1          False               False           False             False   \n",
      "2          False               False           False             False   \n",
      "3          False               False           False             False   \n",
      "4          False               False           False             False   \n",
      "\n",
      "   Action_Import  \n",
      "0          False  \n",
      "1          False  \n",
      "2          False  \n",
      "3          False  \n",
      "4          False  \n",
      "\n",
      "[5 rows x 238 columns]\n"
     ]
    }
   ],
   "source": [
    "from sklearn.model_selection import train_test_split\n",
    "from sklearn.preprocessing import LabelEncoder\n",
    "\n",
    "# Convertir las variables categóricas usando One-Hot Encoding\n",
    "df_encoded = pd.get_dummies(df, columns=['Continent', 'Country', 'Action'], drop_first=True)\n",
    "\n",
    "# Ver las primeras filas para confirmar que se realizó la codificación correctamente\n",
    "print(df_encoded.head())"
   ]
  },
  {
   "cell_type": "code",
   "execution_count": 136,
   "id": "654fecc7-5a76-4a2b-b052-145f9db3c0c8",
   "metadata": {},
   "outputs": [
    {
     "name": "stdout",
     "output_type": "stream",
     "text": [
      "    Trade Value  Trade Category\n",
      "0  2.767000e+10               1\n",
      "1  2.055000e+03               0\n",
      "2  4.447282e+08               1\n",
      "3  1.865465e+09               1\n",
      "4  5.815086e+08               1\n"
     ]
    }
   ],
   "source": [
    "# Crear la variable objetivo 'Trade Category' basada en la mediana del 'Trade Value'\n",
    "threshold = df['Trade Value'].median()  # Usamos la mediana como umbral\n",
    "\n",
    "# Clasificamos los valores de 'Trade Value' como 'Alto' (1) o 'Bajo' (0)\n",
    "df_encoded['Trade Category'] = df_encoded['Trade Value'].apply(lambda x: 1 if x >= threshold else 0)\n",
    "\n",
    "# Ver las primeras filas del DataFrame\n",
    "print(df_encoded[['Trade Value', 'Trade Category']].head())"
   ]
  },
  {
   "cell_type": "code",
   "execution_count": 138,
   "id": "4416bd94-868e-41b7-b644-e1072017667d",
   "metadata": {},
   "outputs": [
    {
     "name": "stdout",
     "output_type": "stream",
     "text": [
      "      Year  Continent_Antarctica  Continent_Asia  Continent_Europe  \\\n",
      "6604  2004                 False           False             False   \n",
      "6146  2006                 False           False             False   \n",
      "2488  2004                 False           False             False   \n",
      "1611  2010                 False            True             False   \n",
      "4207  2018                 False           False             False   \n",
      "\n",
      "      Continent_North America  Continent_Oceania  Continent_South America  \\\n",
      "6604                     True              False                    False   \n",
      "6146                    False              False                    False   \n",
      "2488                     True              False                    False   \n",
      "1611                    False              False                    False   \n",
      "4207                    False               True                    False   \n",
      "\n",
      "      Country_Albania  Country_Algeria  Country_American Samoa  ...  \\\n",
      "6604            False            False                   False  ...   \n",
      "6146            False            False                   False  ...   \n",
      "2488            False            False                   False  ...   \n",
      "1611            False            False                   False  ...   \n",
      "4207            False            False                   False  ...   \n",
      "\n",
      "      Country_Uzbekistan  Country_Vanuatu  Country_Venezuela  Country_Vietnam  \\\n",
      "6604               False            False              False            False   \n",
      "6146               False            False              False            False   \n",
      "2488               False            False              False            False   \n",
      "1611               False            False              False            False   \n",
      "4207               False            False              False            False   \n",
      "\n",
      "      Country_Wallis and Futuna  Country_Yemen  Country_Yugoslavia  \\\n",
      "6604                      False          False               False   \n",
      "6146                      False          False               False   \n",
      "2488                      False          False               False   \n",
      "1611                      False          False               False   \n",
      "4207                      False          False               False   \n",
      "\n",
      "      Country_Zambia  Country_Zimbabwe  Action_Import  \n",
      "6604           False             False           True  \n",
      "6146           False             False           True  \n",
      "2488           False             False          False  \n",
      "1611           False             False          False  \n",
      "4207           False             False           True  \n",
      "\n",
      "[5 rows x 237 columns]\n"
     ]
    }
   ],
   "source": [
    "# Las características (X) serán todas las columnas excepto 'Trade Value' y 'Trade Category'\n",
    "X = df_encoded.drop(columns=['Trade Value', 'Trade Category'])\n",
    "\n",
    "# La variable objetivo (y) será la columna 'Trade Category'\n",
    "y = df_encoded['Trade Category']\n",
    "\n",
    "# Dividir en datos de entrenamiento y prueba\n",
    "X_train, X_test, y_train, y_test = train_test_split(X, y, test_size=0.3, random_state=42)\n",
    "\n",
    "# Verificar las primeras filas de X_train y y_train\n",
    "print(X_train.head())"
   ]
  },
  {
   "cell_type": "code",
   "execution_count": 155,
   "id": "7d428642-741d-40fe-89d7-dd76fbb2c010",
   "metadata": {},
   "outputs": [
    {
     "name": "stdout",
     "output_type": "stream",
     "text": [
      "Accuracy: 0.7535744322960471\n",
      "Classification Report:\n",
      "              precision    recall  f1-score   support\n",
      "\n",
      "           0       0.76      0.72      0.74      1167\n",
      "           1       0.74      0.79      0.76      1211\n",
      "\n",
      "    accuracy                           0.75      2378\n",
      "   macro avg       0.75      0.75      0.75      2378\n",
      "weighted avg       0.75      0.75      0.75      2378\n",
      "\n",
      "Confusion Matrix:\n",
      "[[839 328]\n",
      " [258 953]]\n"
     ]
    }
   ],
   "source": [
    "from sklearn.preprocessing import StandardScaler\n",
    "\n",
    "# Escalar las características\n",
    "scaler = StandardScaler()\n",
    "X_train_scaled = scaler.fit_transform(X_train)\n",
    "X_test_scaled = scaler.transform(X_test)\n",
    "\n",
    "# Entrenar el modelo con los datos escalados\n",
    "model = LogisticRegression(max_iter=1000)\n",
    "model.fit(X_train_scaled, y_train)\n",
    "\n",
    "# Evaluar el modelo\n",
    "y_pred = model.predict(X_test_scaled)\n",
    "\n",
    "from sklearn.metrics import accuracy_score, classification_report, confusion_matrix\n",
    "\n",
    "# Evaluar el modelo\n",
    "accuracy = accuracy_score(y_test, y_pred)\n",
    "print(f'Accuracy: {accuracy}')\n",
    "\n",
    "# Obtener el Classification Report\n",
    "print(f'Classification Report:\\n{classification_report(y_test, y_pred)}')\n",
    "\n",
    "# Mostrar la Confusion Matrix\n",
    "print(f'Confusion Matrix:\\n{confusion_matrix(y_test, y_pred)}')"
   ]
  },
  {
   "cell_type": "code",
   "execution_count": 157,
   "id": "e7d01721-f41d-40a4-bae5-d31738ec9c7d",
   "metadata": {},
   "outputs": [
    {
     "data": {
      "image/png": "[encoded data removed]",
      "text/plain": [
       "<Figure size 640x480 with 1 Axes>"
      ]
     },
     "metadata": {},
     "output_type": "display_data"
    }
   ],
   "source": [
    "from sklearn.metrics import roc_curve, auc\n",
    "import matplotlib.pyplot as plt\n",
    "\n",
    "# Calcular la probabilidad de la clase positiva (1: \"Alto\")\n",
    "y_prob = model.predict_proba(X_test_scaled)[:, 1]\n",
    "\n",
    "# Calcular la curva ROC\n",
    "fpr, tpr, _ = roc_curve(y_test, y_prob)\n",
    "\n",
    "# Calcular el área bajo la curva (AUC)\n",
    "roc_auc = auc(fpr, tpr)\n",
    "\n",
    "# Graficar la curva ROC\n",
    "plt.figure()\n",
    "plt.plot(fpr, tpr, color='darkorange', lw=2, label=f'ROC curve (area = {roc_auc:.2f})')\n",
    "plt.plot([0, 1], [0, 1], color='navy', lw=2, linestyle='--')\n",
    "plt.xlabel('False Positive Rate')\n",
    "plt.ylabel('True Positive Rate')\n",
    "plt.title('Receiver Operating Characteristic (ROC)')\n",
    "plt.legend(loc='lower right')\n",
    "plt.show()"
   ]
  },
  {
   "cell_type": "code",
   "execution_count": 163,
   "id": "b067b565-ff60-43d6-9730-ae398648ad2c",
   "metadata": {},
   "outputs": [
    {
     "name": "stdout",
     "output_type": "stream",
     "text": [
      "Predicción\n",
      "1    4296\n",
      "0    3629\n",
      "Name: count, dtype: int64\n",
      "                            Country  Year   Trade Value  Predicción\n",
      "0                            Angola  2021  2.767000e+10           1\n",
      "1                          Botswana  2021  2.055000e+03           0\n",
      "2                     Cote d'Ivoire  2021  4.447282e+08           1\n",
      "3                          Cameroon  2021  1.865465e+09           1\n",
      "4  Democratic Republic of the Congo  2021  5.815086e+08           0\n"
     ]
    }
   ],
   "source": [
    "df['Predicción'] = y_full_pred\n",
    "\n",
    "# Ver cómo se distribuyen las predicciones en el dataset\n",
    "pred_dist = df['Predicción'].value_counts()\n",
    "print(pred_dist)\n",
    "\n",
    "# Ver cómo las predicciones coinciden con las características\n",
    "print(df[['Country', 'Year', 'Trade Value', 'Predicción']].head())"
   ]
  },
  {
   "cell_type": "code",
   "execution_count": null,
   "id": "b088f43d-5e75-4ca3-be37-4123a946fe7c",
   "metadata": {},
   "outputs": [],
   "source": []
  }
 ],
 "metadata": {
  "kernelspec": {
   "display_name": "Python [conda env:base] *",
   "language": "python",
   "name": "conda-base-py"
  },
  "language_info": {
   "codemirror_mode": {
    "name": "ipython",
    "version": 3
   },
   "file_extension": ".py",
   "mimetype": "text/x-python",
   "name": "python",
   "nbconvert_exporter": "python",
   "pygments_lexer": "ipython3",
   "version": "3.12.7"
  }
 },
 "nbformat": 4,
 "nbformat_minor": 5
}
